{
 "cells": [
  {
   "cell_type": "markdown",
   "id": "cfab521b-77fa-41be-a964-1f50f2ef4689",
   "metadata": {},
   "source": [
    "# 1. 简介\n",
    "<div class=\"toc\"><ul class=\"toc-item\"><li><span><a href=\"#1.1-LangChain的诞生和发展\" data-toc-modified-id=\"1.1-LangChain的诞生和发展-1\">1.1 LangChain的诞生和发展</a></span></li><li><span><a href=\"#1.2-课程基本内容\" data-toc-modified-id=\"1.2-课程基本内容-2\">1.2 课程基本内容</a></span></li><li><span><a href=\"#1.3-致谢课程重要贡献者\" data-toc-modified-id=\"1.3-致谢课程重要贡献者-3\">1.3 致谢课程重要贡献者</a></span></li></ul></div>\n",
    "\n",
    "欢迎来到LangChain大模型应用开发短期课程👏🏻👏🏻\n",
    "\n",
    "本课程由哈里森·蔡斯 (Harrison Chase，LangChain作者）与Deeplearning.ai合作开发，旨在教大家使用这个神奇工具。\n",
    "\n",
    "\n",
    "\n",
    "## 1.1 LangChain的诞生和发展\n",
    "\n",
    "通过对LLM或大型语言模型给出提示(prompt)，现在可以比以往更快地开发AI应用程序，但是一个应用程序可能需要进行多轮提示以及解析输出。\n",
    "\n",
    "在此过程有很多胶水代码需要编写，基于此需求，哈里森·蔡斯 (Harrison Chase) 创建了LangChain，使开发过程变得更加丝滑。\n",
    "\n",
    "LangChain开源社区快速发展，贡献者已达数百人，正以惊人的速度更新代码和功能。\n",
    "\n",
    "\n",
    "## 1.2 课程基本内容\n",
    "\n",
    "LangChain是用于构建大模型应用程序的开源框架，有Python和JavaScript两个不同版本的包。LangChain基于模块化组合，有许多单独的组件，可以一起使用或单独使用。此外LangChain还拥有很多应用案例，帮助我们了解如何将这些模块化组件以链式方式组合，以形成更多端到端的应用程序 。\n",
    "\n",
    "在本课程中，我们将介绍LandChain的常见组件。具体而言我们会讨论一下几个方面\n",
    "- 模型(Models)\n",
    "- 提示(Prompts): 使模型执行操作的方式\n",
    "- 索引(Indexes): 获取数据的方式，可以与模型结合使用\n",
    "- 链式(Chains): 端到端功能实现\n",
    "- 代理(Agents): 使用模型作为推理引擎\n",
    "\n",
    " \n",
    "\n",
    "## 1.3 致谢课程重要贡献者\n",
    "\n",
    "最后特别感谢Ankush Gholar（LandChain的联合作者）、Geoff Ladwig,、Eddy Shyu 以及 Diala Ezzedine，他们也为本课程内容贡献颇多~ "
   ]
  },
  {
   "cell_type": "code",
   "execution_count": null,
   "id": "e3618ca8",
   "metadata": {},
   "outputs": [],
   "source": []
  }
 ],
 "metadata": {
  "kernelspec": {
   "display_name": "Python 3 (ipykernel)",
   "language": "python",
   "name": "python3"
  },
  "language_info": {
   "codemirror_mode": {
    "name": "ipython",
    "version": 3
   },
   "file_extension": ".py",
   "mimetype": "text/x-python",
   "name": "python",
   "nbconvert_exporter": "python",
   "pygments_lexer": "ipython3",
   "version": "3.9.12"
  },
  "toc": {
   "base_numbering": 1,
   "nav_menu": {},
   "number_sections": false,
   "sideBar": true,
   "skip_h1_title": false,
   "title_cell": "Table of Contents",
   "title_sidebar": "Contents",
   "toc_cell": false,
   "toc_position": {},
   "toc_section_display": true,
   "toc_window_display": true
  }
 },
 "nbformat": 4,
 "nbformat_minor": 5
}
