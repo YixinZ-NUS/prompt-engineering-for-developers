{
 "cells": [
  {
   "cell_type": "markdown",
   "id": "87f7cfaa",
   "metadata": {},
   "source": [
    "# 8. 总结\n",
    "\n",
    "\n",
    "本次简短课程涵盖了一系列LangChain的应用实践，包括处理顾客评论和基于文档回答问题，以及通过LLM判断何时求助外部工具 (如网站) 来回答复杂问题。\n",
    "\n",
    "**👍🏻 LangChain如此强大**\n",
    "\n",
    "构建这类应用曾经需要耗费数周时间，而现在只需要非常少的代码，就可以通过LangChain高效构建所需的应用程序。LangChain已成为开发大模型应用的有力范式，希望大家拥抱这个强大工具，积极探索更多更广泛的应用场景。\n",
    "\n",
    "**🌈 不同组合, 更多可能性**\n",
    "\n",
    "LangChain还可以协助我们做什么呢：基于CSV文件回答问题、查询sql数据库、与api交互，有很多例子通过Chain以及不同的提示（Prompts）和输出解析器（output parsers）组合得以实现。\n",
    "\n",
    "**💪🏻 出发 去探索新世界吧**\n",
    "\n",
    "因此非常感谢社区中做出贡献的每一个人，无论是协助文档的改进，还是让其他人更容易上手，还是构建新的Chain打开一个全新的世界。\n",
    "\n",
    "如果你还没有这样做，快去打开电脑，运行  pip install LangChain，然后去使用LangChain、搭建惊艳的应用吧~\n",
    "\n"
   ]
  }
 ],
 "metadata": {
  "kernelspec": {
   "display_name": "Python 3 (ipykernel)",
   "language": "python",
   "name": "python3"
  },
  "language_info": {
   "codemirror_mode": {
    "name": "ipython",
    "version": 3
   },
   "file_extension": ".py",
   "mimetype": "text/x-python",
   "name": "python",
   "nbconvert_exporter": "python",
   "pygments_lexer": "ipython3",
   "version": "3.9.12"
  },
  "toc": {
   "base_numbering": 1,
   "nav_menu": {},
   "number_sections": false,
   "sideBar": true,
   "skip_h1_title": false,
   "title_cell": "Table of Contents",
   "title_sidebar": "Contents",
   "toc_cell": false,
   "toc_position": {},
   "toc_section_display": true,
   "toc_window_display": true
  }
 },
 "nbformat": 4,
 "nbformat_minor": 5
}
